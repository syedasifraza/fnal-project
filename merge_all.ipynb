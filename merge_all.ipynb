{
 "cells": [
  {
   "cell_type": "code",
   "execution_count": 2,
   "id": "61c538ae-cb39-4e67-adc5-3a7dc45ab9b6",
   "metadata": {},
   "outputs": [
    {
     "name": "stdout",
     "output_type": "stream",
     "text": [
      "Merge successful! Output saved to merged_output_2.pcapng\n"
     ]
    }
   ],
   "source": [
    "import glob\n",
    "import subprocess\n",
    "\n",
    "files = glob.glob(\"hightouch_*.pcapng\")\n",
    "\n",
    "sorted_files = sorted(files, key=lambda f: int(f.split(\"_\")[2]))\n",
    "\n",
    "output_file = \"merged_output_2.pcapng\"\n",
    "mergecap_command = [\"mergecap\", \"-w\", output_file] + sorted_files\n",
    "\n",
    "try:\n",
    "    subprocess.run(mergecap_command, check=True)\n",
    "    print(f\"Merged {output_file}\")\n",
    "except subprocess.CalledProcessError as e:\n",
    "    print(f\"Problems amigo: {e}\")"
   ]
  },
  {
   "cell_type": "code",
   "execution_count": null,
   "id": "7d88f65f-7b0e-4d00-b297-2a20ff0adf25",
   "metadata": {},
   "outputs": [],
   "source": []
  }
 ],
 "metadata": {
  "kernelspec": {
   "display_name": "Python 3 (ipykernel)",
   "language": "python",
   "name": "python3"
  },
  "language_info": {
   "codemirror_mode": {
    "name": "ipython",
    "version": 3
   },
   "file_extension": ".py",
   "mimetype": "text/x-python",
   "name": "python",
   "nbconvert_exporter": "python",
   "pygments_lexer": "ipython3",
   "version": "3.8.10"
  }
 },
 "nbformat": 4,
 "nbformat_minor": 5
}
